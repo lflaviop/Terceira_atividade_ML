{
 "cells": [
  {
   "cell_type": "markdown",
   "id": "rural-advance",
   "metadata": {},
   "source": [
    "## __*Atividade Avaliativa 03 - Parte 2*__\n",
    "\n",
    "Considerando o conjunto de dados Heart Disease Data Set:\n",
    "1. Explorar visualmente e numericamente os dados;\n",
    "2. Preparar os conjunto de dados utilizando as técnicas ensinadas na disciplina, quando pertinente;\n",
    "3. Criar agrupamentos utilizando K-Means e agrupamento hirárquico conforme estudado na disciplina.  Pesquisar também o DBSCAN, e aplicá-lo. Escolher a técnica que obteve melhor resultado justificando a resposta.\n",
    "4. Enviar a URL do jupyter notebook no GitHub.\n",
    "____________________"
   ]
  },
  {
   "cell_type": "markdown",
   "id": "coral-subcommittee",
   "metadata": {},
   "source": [
    "## __Identificação do problema__\n",
    "\n",
    "Dentre os diversos datasets disponíveis, foi-se escolhido o processed.cleveland, que de acordo com a literatura pesquisada, é o que melhor se adapta aos problemas de Machine Learning.\n",
    "\n",
    "O objetivo do problema é formar agrupamentos de acordo com as características das features, utilizando os algoritmos destinados a este fim.\n",
    "________________________"
   ]
  },
  {
   "cell_type": "markdown",
   "id": "parallel-faith",
   "metadata": {},
   "source": [
    "## *Passo 1 - Setup do projeto*\n",
    "#### Importação das bibliotecas e identificação do endereço de download do dataset."
   ]
  },
  {
   "cell_type": "code",
   "execution_count": 1,
   "id": "alpha-volume",
   "metadata": {},
   "outputs": [
    {
     "name": "stdout",
     "output_type": "stream",
     "text": [
      "Matplot version: 3.3.4\n",
      "Numpy version: 1.19.2\n",
      "Pandas version: 1.2.3\n",
      "Scikit-learn version: 0.24.1\n",
      "Seaborn version: 0.11.1\n",
      "\n",
      "Configuração completa !\n"
     ]
    }
   ],
   "source": [
    "import os\n",
    "import urllib\n",
    "\n",
    "import matplotlib as mpl\n",
    "import matplotlib.pyplot as plt\n",
    "import numpy as np\n",
    "import pandas as pd\n",
    "import seaborn as sns\n",
    "import sklearn\n",
    "\n",
    "print(f'Matplot version: {mpl.__version__}')\n",
    "print(f'Numpy version: {np.__version__}')\n",
    "print(f'Pandas version: {pd.__version__}')\n",
    "print(f'Scikit-learn version: {sklearn.__version__}')\n",
    "print(f'Seaborn version: {sns.__version__}')\n",
    "\n",
    "DOWNLOAD_ROOT = 'https://archive.ics.uci.edu/ml/machine-learning-databases/heart-disease/'\n",
    "HEART_PATH = os.path.join('data', 'raw')\n",
    "HEART_URL = DOWNLOAD_ROOT + 'processed.cleveland.data' \n",
    "\n",
    "HEART_FILE = 'heart.csv'\n",
    "HEART_DATA = os.path.join(HEART_PATH, HEART_FILE)\n",
    "\n",
    "RANDOM_STATE = 42\n",
    "\n",
    "print('\\nConfiguração completa !')"
   ]
  },
  {
   "cell_type": "markdown",
   "id": "mexican-remedy",
   "metadata": {},
   "source": [
    "__________________________________\n",
    "## *Passo 2 - Download e Carregamento dos Dados*\n",
    "#### Download do dataset e carregamento do mesmo para um DataFrame."
   ]
  },
  {
   "cell_type": "code",
   "execution_count": 2,
   "id": "fancy-reply",
   "metadata": {},
   "outputs": [],
   "source": [
    "def download_data(data_url, data_path, data_file):\n",
    "    os.makedirs(data_path, exist_ok=True)\n",
    "    local_path = os.path.join(data_path, data_file)\n",
    "    urllib.request.urlretrieve(data_url, local_path)\n",
    "    \n",
    "download_data(HEART_URL, HEART_PATH, HEART_FILE)"
   ]
  },
  {
   "cell_type": "code",
   "execution_count": 3,
   "id": "documentary-watson",
   "metadata": {},
   "outputs": [],
   "source": [
    "col_names = ['age', 'sex', 'chest_pain', 'resting_blood_pressure', 'cholestoral', 'blood_sugar',\n",
    "             'resting_ecg', 'maximum_heart_rate', 'exercise_induced_angina', 'oldpeak',\n",
    "             'slope_peak_exercise', 'major_vessels', 'thal', 'diagnosis']"
   ]
  },
  {
   "cell_type": "code",
   "execution_count": 4,
   "id": "ordered-google",
   "metadata": {},
   "outputs": [],
   "source": [
    "def load_data(data_path, data_file):\n",
    "    local_path = os.path.join(data_path, data_file)\n",
    "    return pd.read_csv(local_path, header=None, names=col_names)\n",
    "\n",
    "heart_df = load_data(HEART_PATH, HEART_FILE)"
   ]
  },
  {
   "cell_type": "markdown",
   "id": "liberal-monitor",
   "metadata": {},
   "source": [
    "_____________________\n",
    "## *Passo 3 - Análise Exploratória de Dados*\n",
    "#### Análise dos dados buscando identificar dados inválidos e faltantes. Nessa etapa os dados serão transformados e normalizados, caso haja necessidade."
   ]
  },
  {
   "cell_type": "code",
   "execution_count": 5,
   "id": "clean-activation",
   "metadata": {},
   "outputs": [
    {
     "name": "stdout",
     "output_type": "stream",
     "text": [
      "O dataframe heart_df possui 303 linhas e 14 colunas.\n"
     ]
    }
   ],
   "source": [
    "print(f'O dataframe heart_df possui {heart_df.shape[0]} linhas e {heart_df.shape[1]} colunas.')"
   ]
  },
  {
   "cell_type": "code",
   "execution_count": 6,
   "id": "inappropriate-communist",
   "metadata": {},
   "outputs": [
    {
     "data": {
      "text/html": [
       "<div>\n",
       "<style scoped>\n",
       "    .dataframe tbody tr th:only-of-type {\n",
       "        vertical-align: middle;\n",
       "    }\n",
       "\n",
       "    .dataframe tbody tr th {\n",
       "        vertical-align: top;\n",
       "    }\n",
       "\n",
       "    .dataframe thead th {\n",
       "        text-align: right;\n",
       "    }\n",
       "</style>\n",
       "<table border=\"1\" class=\"dataframe\">\n",
       "  <thead>\n",
       "    <tr style=\"text-align: right;\">\n",
       "      <th></th>\n",
       "      <th>age</th>\n",
       "      <th>sex</th>\n",
       "      <th>chest_pain</th>\n",
       "      <th>resting_blood_pressure</th>\n",
       "      <th>cholestoral</th>\n",
       "      <th>blood_sugar</th>\n",
       "      <th>resting_ecg</th>\n",
       "      <th>maximum_heart_rate</th>\n",
       "      <th>exercise_induced_angina</th>\n",
       "      <th>oldpeak</th>\n",
       "      <th>slope_peak_exercise</th>\n",
       "      <th>major_vessels</th>\n",
       "      <th>thal</th>\n",
       "      <th>diagnosis</th>\n",
       "    </tr>\n",
       "  </thead>\n",
       "  <tbody>\n",
       "    <tr>\n",
       "      <th>0</th>\n",
       "      <td>63.0</td>\n",
       "      <td>1.0</td>\n",
       "      <td>1.0</td>\n",
       "      <td>145.0</td>\n",
       "      <td>233.0</td>\n",
       "      <td>1.0</td>\n",
       "      <td>2.0</td>\n",
       "      <td>150.0</td>\n",
       "      <td>0.0</td>\n",
       "      <td>2.3</td>\n",
       "      <td>3.0</td>\n",
       "      <td>0.0</td>\n",
       "      <td>6.0</td>\n",
       "      <td>0</td>\n",
       "    </tr>\n",
       "    <tr>\n",
       "      <th>1</th>\n",
       "      <td>67.0</td>\n",
       "      <td>1.0</td>\n",
       "      <td>4.0</td>\n",
       "      <td>160.0</td>\n",
       "      <td>286.0</td>\n",
       "      <td>0.0</td>\n",
       "      <td>2.0</td>\n",
       "      <td>108.0</td>\n",
       "      <td>1.0</td>\n",
       "      <td>1.5</td>\n",
       "      <td>2.0</td>\n",
       "      <td>3.0</td>\n",
       "      <td>3.0</td>\n",
       "      <td>2</td>\n",
       "    </tr>\n",
       "    <tr>\n",
       "      <th>2</th>\n",
       "      <td>67.0</td>\n",
       "      <td>1.0</td>\n",
       "      <td>4.0</td>\n",
       "      <td>120.0</td>\n",
       "      <td>229.0</td>\n",
       "      <td>0.0</td>\n",
       "      <td>2.0</td>\n",
       "      <td>129.0</td>\n",
       "      <td>1.0</td>\n",
       "      <td>2.6</td>\n",
       "      <td>2.0</td>\n",
       "      <td>2.0</td>\n",
       "      <td>7.0</td>\n",
       "      <td>1</td>\n",
       "    </tr>\n",
       "    <tr>\n",
       "      <th>3</th>\n",
       "      <td>37.0</td>\n",
       "      <td>1.0</td>\n",
       "      <td>3.0</td>\n",
       "      <td>130.0</td>\n",
       "      <td>250.0</td>\n",
       "      <td>0.0</td>\n",
       "      <td>0.0</td>\n",
       "      <td>187.0</td>\n",
       "      <td>0.0</td>\n",
       "      <td>3.5</td>\n",
       "      <td>3.0</td>\n",
       "      <td>0.0</td>\n",
       "      <td>3.0</td>\n",
       "      <td>0</td>\n",
       "    </tr>\n",
       "    <tr>\n",
       "      <th>4</th>\n",
       "      <td>41.0</td>\n",
       "      <td>0.0</td>\n",
       "      <td>2.0</td>\n",
       "      <td>130.0</td>\n",
       "      <td>204.0</td>\n",
       "      <td>0.0</td>\n",
       "      <td>2.0</td>\n",
       "      <td>172.0</td>\n",
       "      <td>0.0</td>\n",
       "      <td>1.4</td>\n",
       "      <td>1.0</td>\n",
       "      <td>0.0</td>\n",
       "      <td>3.0</td>\n",
       "      <td>0</td>\n",
       "    </tr>\n",
       "  </tbody>\n",
       "</table>\n",
       "</div>"
      ],
      "text/plain": [
       "    age  sex  chest_pain  resting_blood_pressure  cholestoral  blood_sugar  \\\n",
       "0  63.0  1.0         1.0                   145.0        233.0          1.0   \n",
       "1  67.0  1.0         4.0                   160.0        286.0          0.0   \n",
       "2  67.0  1.0         4.0                   120.0        229.0          0.0   \n",
       "3  37.0  1.0         3.0                   130.0        250.0          0.0   \n",
       "4  41.0  0.0         2.0                   130.0        204.0          0.0   \n",
       "\n",
       "   resting_ecg  maximum_heart_rate  exercise_induced_angina  oldpeak  \\\n",
       "0          2.0               150.0                      0.0      2.3   \n",
       "1          2.0               108.0                      1.0      1.5   \n",
       "2          2.0               129.0                      1.0      2.6   \n",
       "3          0.0               187.0                      0.0      3.5   \n",
       "4          2.0               172.0                      0.0      1.4   \n",
       "\n",
       "   slope_peak_exercise major_vessels thal  diagnosis  \n",
       "0                  3.0           0.0  6.0          0  \n",
       "1                  2.0           3.0  3.0          2  \n",
       "2                  2.0           2.0  7.0          1  \n",
       "3                  3.0           0.0  3.0          0  \n",
       "4                  1.0           0.0  3.0          0  "
      ]
     },
     "execution_count": 6,
     "metadata": {},
     "output_type": "execute_result"
    }
   ],
   "source": [
    "heart_df.head()"
   ]
  },
  {
   "cell_type": "code",
   "execution_count": 7,
   "id": "upper-spain",
   "metadata": {},
   "outputs": [
    {
     "data": {
      "text/html": [
       "<div>\n",
       "<style scoped>\n",
       "    .dataframe tbody tr th:only-of-type {\n",
       "        vertical-align: middle;\n",
       "    }\n",
       "\n",
       "    .dataframe tbody tr th {\n",
       "        vertical-align: top;\n",
       "    }\n",
       "\n",
       "    .dataframe thead th {\n",
       "        text-align: right;\n",
       "    }\n",
       "</style>\n",
       "<table border=\"1\" class=\"dataframe\">\n",
       "  <thead>\n",
       "    <tr style=\"text-align: right;\">\n",
       "      <th></th>\n",
       "      <th>age</th>\n",
       "      <th>sex</th>\n",
       "      <th>chest_pain</th>\n",
       "      <th>resting_blood_pressure</th>\n",
       "      <th>cholestoral</th>\n",
       "      <th>blood_sugar</th>\n",
       "      <th>resting_ecg</th>\n",
       "      <th>maximum_heart_rate</th>\n",
       "      <th>exercise_induced_angina</th>\n",
       "      <th>oldpeak</th>\n",
       "      <th>slope_peak_exercise</th>\n",
       "      <th>diagnosis</th>\n",
       "    </tr>\n",
       "  </thead>\n",
       "  <tbody>\n",
       "    <tr>\n",
       "      <th>count</th>\n",
       "      <td>303.000000</td>\n",
       "      <td>303.000000</td>\n",
       "      <td>303.000000</td>\n",
       "      <td>303.000000</td>\n",
       "      <td>303.000000</td>\n",
       "      <td>303.000000</td>\n",
       "      <td>303.000000</td>\n",
       "      <td>303.000000</td>\n",
       "      <td>303.000000</td>\n",
       "      <td>303.000000</td>\n",
       "      <td>303.000000</td>\n",
       "      <td>303.000000</td>\n",
       "    </tr>\n",
       "    <tr>\n",
       "      <th>mean</th>\n",
       "      <td>54.438944</td>\n",
       "      <td>0.679868</td>\n",
       "      <td>3.158416</td>\n",
       "      <td>131.689769</td>\n",
       "      <td>246.693069</td>\n",
       "      <td>0.148515</td>\n",
       "      <td>0.990099</td>\n",
       "      <td>149.607261</td>\n",
       "      <td>0.326733</td>\n",
       "      <td>1.039604</td>\n",
       "      <td>1.600660</td>\n",
       "      <td>0.937294</td>\n",
       "    </tr>\n",
       "    <tr>\n",
       "      <th>std</th>\n",
       "      <td>9.038662</td>\n",
       "      <td>0.467299</td>\n",
       "      <td>0.960126</td>\n",
       "      <td>17.599748</td>\n",
       "      <td>51.776918</td>\n",
       "      <td>0.356198</td>\n",
       "      <td>0.994971</td>\n",
       "      <td>22.875003</td>\n",
       "      <td>0.469794</td>\n",
       "      <td>1.161075</td>\n",
       "      <td>0.616226</td>\n",
       "      <td>1.228536</td>\n",
       "    </tr>\n",
       "    <tr>\n",
       "      <th>min</th>\n",
       "      <td>29.000000</td>\n",
       "      <td>0.000000</td>\n",
       "      <td>1.000000</td>\n",
       "      <td>94.000000</td>\n",
       "      <td>126.000000</td>\n",
       "      <td>0.000000</td>\n",
       "      <td>0.000000</td>\n",
       "      <td>71.000000</td>\n",
       "      <td>0.000000</td>\n",
       "      <td>0.000000</td>\n",
       "      <td>1.000000</td>\n",
       "      <td>0.000000</td>\n",
       "    </tr>\n",
       "    <tr>\n",
       "      <th>25%</th>\n",
       "      <td>48.000000</td>\n",
       "      <td>0.000000</td>\n",
       "      <td>3.000000</td>\n",
       "      <td>120.000000</td>\n",
       "      <td>211.000000</td>\n",
       "      <td>0.000000</td>\n",
       "      <td>0.000000</td>\n",
       "      <td>133.500000</td>\n",
       "      <td>0.000000</td>\n",
       "      <td>0.000000</td>\n",
       "      <td>1.000000</td>\n",
       "      <td>0.000000</td>\n",
       "    </tr>\n",
       "    <tr>\n",
       "      <th>50%</th>\n",
       "      <td>56.000000</td>\n",
       "      <td>1.000000</td>\n",
       "      <td>3.000000</td>\n",
       "      <td>130.000000</td>\n",
       "      <td>241.000000</td>\n",
       "      <td>0.000000</td>\n",
       "      <td>1.000000</td>\n",
       "      <td>153.000000</td>\n",
       "      <td>0.000000</td>\n",
       "      <td>0.800000</td>\n",
       "      <td>2.000000</td>\n",
       "      <td>0.000000</td>\n",
       "    </tr>\n",
       "    <tr>\n",
       "      <th>75%</th>\n",
       "      <td>61.000000</td>\n",
       "      <td>1.000000</td>\n",
       "      <td>4.000000</td>\n",
       "      <td>140.000000</td>\n",
       "      <td>275.000000</td>\n",
       "      <td>0.000000</td>\n",
       "      <td>2.000000</td>\n",
       "      <td>166.000000</td>\n",
       "      <td>1.000000</td>\n",
       "      <td>1.600000</td>\n",
       "      <td>2.000000</td>\n",
       "      <td>2.000000</td>\n",
       "    </tr>\n",
       "    <tr>\n",
       "      <th>max</th>\n",
       "      <td>77.000000</td>\n",
       "      <td>1.000000</td>\n",
       "      <td>4.000000</td>\n",
       "      <td>200.000000</td>\n",
       "      <td>564.000000</td>\n",
       "      <td>1.000000</td>\n",
       "      <td>2.000000</td>\n",
       "      <td>202.000000</td>\n",
       "      <td>1.000000</td>\n",
       "      <td>6.200000</td>\n",
       "      <td>3.000000</td>\n",
       "      <td>4.000000</td>\n",
       "    </tr>\n",
       "  </tbody>\n",
       "</table>\n",
       "</div>"
      ],
      "text/plain": [
       "              age         sex  chest_pain  resting_blood_pressure  \\\n",
       "count  303.000000  303.000000  303.000000              303.000000   \n",
       "mean    54.438944    0.679868    3.158416              131.689769   \n",
       "std      9.038662    0.467299    0.960126               17.599748   \n",
       "min     29.000000    0.000000    1.000000               94.000000   \n",
       "25%     48.000000    0.000000    3.000000              120.000000   \n",
       "50%     56.000000    1.000000    3.000000              130.000000   \n",
       "75%     61.000000    1.000000    4.000000              140.000000   \n",
       "max     77.000000    1.000000    4.000000              200.000000   \n",
       "\n",
       "       cholestoral  blood_sugar  resting_ecg  maximum_heart_rate  \\\n",
       "count   303.000000   303.000000   303.000000          303.000000   \n",
       "mean    246.693069     0.148515     0.990099          149.607261   \n",
       "std      51.776918     0.356198     0.994971           22.875003   \n",
       "min     126.000000     0.000000     0.000000           71.000000   \n",
       "25%     211.000000     0.000000     0.000000          133.500000   \n",
       "50%     241.000000     0.000000     1.000000          153.000000   \n",
       "75%     275.000000     0.000000     2.000000          166.000000   \n",
       "max     564.000000     1.000000     2.000000          202.000000   \n",
       "\n",
       "       exercise_induced_angina     oldpeak  slope_peak_exercise   diagnosis  \n",
       "count               303.000000  303.000000           303.000000  303.000000  \n",
       "mean                  0.326733    1.039604             1.600660    0.937294  \n",
       "std                   0.469794    1.161075             0.616226    1.228536  \n",
       "min                   0.000000    0.000000             1.000000    0.000000  \n",
       "25%                   0.000000    0.000000             1.000000    0.000000  \n",
       "50%                   0.000000    0.800000             2.000000    0.000000  \n",
       "75%                   1.000000    1.600000             2.000000    2.000000  \n",
       "max                   1.000000    6.200000             3.000000    4.000000  "
      ]
     },
     "execution_count": 7,
     "metadata": {},
     "output_type": "execute_result"
    }
   ],
   "source": [
    "heart_df.describe()"
   ]
  },
  {
   "cell_type": "code",
   "execution_count": 8,
   "id": "impaired-dynamics",
   "metadata": {},
   "outputs": [
    {
     "name": "stdout",
     "output_type": "stream",
     "text": [
      "<class 'pandas.core.frame.DataFrame'>\n",
      "RangeIndex: 303 entries, 0 to 302\n",
      "Data columns (total 14 columns):\n",
      " #   Column                   Non-Null Count  Dtype  \n",
      "---  ------                   --------------  -----  \n",
      " 0   age                      303 non-null    float64\n",
      " 1   sex                      303 non-null    float64\n",
      " 2   chest_pain               303 non-null    float64\n",
      " 3   resting_blood_pressure   303 non-null    float64\n",
      " 4   cholestoral              303 non-null    float64\n",
      " 5   blood_sugar              303 non-null    float64\n",
      " 6   resting_ecg              303 non-null    float64\n",
      " 7   maximum_heart_rate       303 non-null    float64\n",
      " 8   exercise_induced_angina  303 non-null    float64\n",
      " 9   oldpeak                  303 non-null    float64\n",
      " 10  slope_peak_exercise      303 non-null    float64\n",
      " 11  major_vessels            303 non-null    object \n",
      " 12  thal                     303 non-null    object \n",
      " 13  diagnosis                303 non-null    int64  \n",
      "dtypes: float64(11), int64(1), object(2)\n",
      "memory usage: 33.3+ KB\n"
     ]
    }
   ],
   "source": [
    "heart_df.info()"
   ]
  },
  {
   "cell_type": "code",
   "execution_count": 9,
   "id": "monthly-firmware",
   "metadata": {},
   "outputs": [
    {
     "name": "stdout",
     "output_type": "stream",
     "text": [
      "Quantidade de dados ausentes: \n",
      "age                        0\n",
      "sex                        0\n",
      "chest_pain                 0\n",
      "resting_blood_pressure     0\n",
      "cholestoral                0\n",
      "blood_sugar                0\n",
      "resting_ecg                0\n",
      "maximum_heart_rate         0\n",
      "exercise_induced_angina    0\n",
      "oldpeak                    0\n",
      "slope_peak_exercise        0\n",
      "major_vessels              4\n",
      "thal                       2\n",
      "diagnosis                  0\n",
      "dtype: int64\n"
     ]
    }
   ],
   "source": [
    "# Verificação da possível existência de valores ausentes\n",
    "\n",
    "val_ausentes = (heart_df[['age', 'sex', 'chest_pain', 'resting_blood_pressure', 'cholestoral', 'blood_sugar',\n",
    "             'resting_ecg', 'maximum_heart_rate', 'exercise_induced_angina', 'oldpeak',\n",
    "             'slope_peak_exercise', 'major_vessels', 'thal', 'diagnosis']] == '?').sum()\n",
    "\n",
    "print(f'Quantidade de dados ausentes: \\n{val_ausentes}')"
   ]
  },
  {
   "cell_type": "code",
   "execution_count": 10,
   "id": "faced-manual",
   "metadata": {},
   "outputs": [
    {
     "data": {
      "text/plain": [
       "age                        0\n",
       "sex                        0\n",
       "chest_pain                 0\n",
       "resting_blood_pressure     0\n",
       "cholestoral                0\n",
       "blood_sugar                0\n",
       "resting_ecg                0\n",
       "maximum_heart_rate         0\n",
       "exercise_induced_angina    0\n",
       "oldpeak                    0\n",
       "slope_peak_exercise        0\n",
       "major_vessels              4\n",
       "thal                       2\n",
       "diagnosis                  0\n",
       "dtype: int64"
      ]
     },
     "execution_count": 10,
     "metadata": {},
     "output_type": "execute_result"
    }
   ],
   "source": [
    "# Substituição dos valores ? por NaN\n",
    "\n",
    "heart_df[['major_vessels', 'thal']] = heart_df[['major_vessels', 'thal']].replace('?', np.nan)\n",
    "\n",
    "heart_df.isnull().sum()"
   ]
  },
  {
   "cell_type": "code",
   "execution_count": 11,
   "id": "insured-divorce",
   "metadata": {},
   "outputs": [
    {
     "name": "stdout",
     "output_type": "stream",
     "text": [
      "<class 'pandas.core.frame.DataFrame'>\n",
      "RangeIndex: 303 entries, 0 to 302\n",
      "Data columns (total 14 columns):\n",
      " #   Column                   Non-Null Count  Dtype  \n",
      "---  ------                   --------------  -----  \n",
      " 0   age                      303 non-null    float64\n",
      " 1   sex                      303 non-null    float64\n",
      " 2   chest_pain               303 non-null    float64\n",
      " 3   resting_blood_pressure   303 non-null    float64\n",
      " 4   cholestoral              303 non-null    float64\n",
      " 5   blood_sugar              303 non-null    float64\n",
      " 6   resting_ecg              303 non-null    float64\n",
      " 7   maximum_heart_rate       303 non-null    float64\n",
      " 8   exercise_induced_angina  303 non-null    float64\n",
      " 9   oldpeak                  303 non-null    float64\n",
      " 10  slope_peak_exercise      303 non-null    float64\n",
      " 11  major_vessels            299 non-null    object \n",
      " 12  thal                     301 non-null    object \n",
      " 13  diagnosis                303 non-null    int64  \n",
      "dtypes: float64(11), int64(1), object(2)\n",
      "memory usage: 33.3+ KB\n"
     ]
    }
   ],
   "source": [
    "heart_df.info()"
   ]
  },
  {
   "cell_type": "code",
   "execution_count": 12,
   "id": "green-fishing",
   "metadata": {},
   "outputs": [],
   "source": [
    "# Como eram poucos os valores NaN, foi-se optado por excluir todas as linhas onde os mesmos se encontravam\n",
    "\n",
    "heart_df.dropna(axis=0, how='any', inplace=True)"
   ]
  },
  {
   "cell_type": "code",
   "execution_count": 13,
   "id": "literary-publisher",
   "metadata": {},
   "outputs": [],
   "source": [
    "heart_df['thal'] = heart_df['thal'].astype('float')\n",
    "heart_df['major_vessels'] = heart_df['major_vessels'].astype('float')"
   ]
  },
  {
   "cell_type": "code",
   "execution_count": 14,
   "id": "abstract-stevens",
   "metadata": {},
   "outputs": [
    {
     "name": "stdout",
     "output_type": "stream",
     "text": [
      "<class 'pandas.core.frame.DataFrame'>\n",
      "Int64Index: 297 entries, 0 to 301\n",
      "Data columns (total 14 columns):\n",
      " #   Column                   Non-Null Count  Dtype  \n",
      "---  ------                   --------------  -----  \n",
      " 0   age                      297 non-null    float64\n",
      " 1   sex                      297 non-null    float64\n",
      " 2   chest_pain               297 non-null    float64\n",
      " 3   resting_blood_pressure   297 non-null    float64\n",
      " 4   cholestoral              297 non-null    float64\n",
      " 5   blood_sugar              297 non-null    float64\n",
      " 6   resting_ecg              297 non-null    float64\n",
      " 7   maximum_heart_rate       297 non-null    float64\n",
      " 8   exercise_induced_angina  297 non-null    float64\n",
      " 9   oldpeak                  297 non-null    float64\n",
      " 10  slope_peak_exercise      297 non-null    float64\n",
      " 11  major_vessels            297 non-null    float64\n",
      " 12  thal                     297 non-null    float64\n",
      " 13  diagnosis                297 non-null    int64  \n",
      "dtypes: float64(13), int64(1)\n",
      "memory usage: 34.8 KB\n"
     ]
    }
   ],
   "source": [
    "heart_df.info()"
   ]
  },
  {
   "cell_type": "code",
   "execution_count": 15,
   "id": "superior-updating",
   "metadata": {},
   "outputs": [],
   "source": [
    "# Geração de uma cópia do dataset para utilização no algoritmo do Dendograma\n",
    "\n",
    "heart_dend = heart_df.copy()"
   ]
  },
  {
   "cell_type": "code",
   "execution_count": 16,
   "id": "stretch-independence",
   "metadata": {},
   "outputs": [
    {
     "data": {
      "text/plain": [
       "array([0, 2, 1, 3, 4], dtype=int64)"
      ]
     },
     "execution_count": 16,
     "metadata": {},
     "output_type": "execute_result"
    }
   ],
   "source": [
    "# Verificação dos valores existentes na feature alvo\n",
    "\n",
    "heart_df['diagnosis'].unique()"
   ]
  },
  {
   "cell_type": "code",
   "execution_count": 17,
   "id": "novel-classics",
   "metadata": {},
   "outputs": [
    {
     "data": {
      "text/plain": [
       "array([[63.,  1.,  1., ...,  3.,  0.,  6.],\n",
       "       [67.,  1.,  4., ...,  2.,  3.,  3.],\n",
       "       [67.,  1.,  4., ...,  2.,  2.,  7.],\n",
       "       ...,\n",
       "       [68.,  1.,  4., ...,  2.,  2.,  7.],\n",
       "       [57.,  1.,  4., ...,  2.,  1.,  7.],\n",
       "       [57.,  0.,  2., ...,  2.,  1.,  3.]])"
      ]
     },
     "execution_count": 17,
     "metadata": {},
     "output_type": "execute_result"
    }
   ],
   "source": [
    "# Criação de uma matriz tipo Numpy para utilização nos algoritmos, excluindo-se a feature alvo\n",
    "\n",
    "heart = heart_df.iloc[:,:-1].values\n",
    "heart_dbscan = heart.copy()\n",
    "heart"
   ]
  },
  {
   "cell_type": "markdown",
   "id": "insured-spain",
   "metadata": {},
   "source": [
    "_____________\n",
    "## *Passo 4 - Geração dos clusters utilizando o algoritmo KMeans*\n",
    "#### Nessa etapa, o dataset será analisado pelo algoritmo, sendo criados os clusters de acordo com as características das features."
   ]
  },
  {
   "cell_type": "code",
   "execution_count": 18,
   "id": "nasty-carpet",
   "metadata": {},
   "outputs": [],
   "source": [
    "from sklearn.cluster import KMeans\n",
    "\n",
    "kmeans = KMeans(n_clusters=5, random_state=RANDOM_STATE, init='k-means++')\n",
    "y_kmeans = kmeans.fit_predict(heart)"
   ]
  },
  {
   "cell_type": "code",
   "execution_count": 19,
   "id": "owned-delivery",
   "metadata": {},
   "outputs": [
    {
     "data": {
      "text/plain": [
       "array([1, 0, 0, 1, 3, 1, 1, 4, 0, 3, 3, 4, 0, 1, 3, 3, 1, 1, 0, 1, 3, 4,\n",
       "       4, 1, 3, 1, 4, 0, 1, 3, 1, 1, 4, 1, 1, 1, 3, 0, 4, 0, 0, 3, 4, 3,\n",
       "       4, 1, 3, 0, 2, 3, 3, 3, 4, 1, 0, 0, 1, 3, 0, 3, 4, 3, 3, 4, 3, 0,\n",
       "       3, 1, 4, 1, 0, 1, 0, 1, 3, 4, 0, 4, 1, 0, 3, 0, 4, 0, 4, 1, 1, 1,\n",
       "       1, 4, 3, 1, 3, 1, 1, 1, 1, 3, 1, 1, 3, 4, 0, 3, 4, 3, 1, 0, 3, 4,\n",
       "       1, 3, 4, 0, 3, 3, 3, 4, 0, 1, 2, 1, 3, 4, 1, 0, 0, 1, 3, 1, 1, 1,\n",
       "       1, 1, 1, 3, 0, 3, 1, 1, 4, 1, 4, 1, 1, 0, 1, 4, 4, 4, 0, 2, 4, 0,\n",
       "       4, 4, 4, 4, 0, 3, 4, 1, 0, 1, 3, 4, 4, 3, 0, 0, 0, 2, 3, 0, 1, 3,\n",
       "       4, 1, 1, 2, 1, 0, 4, 3, 1, 0, 4, 0, 3, 4, 0, 3, 4, 0, 1, 1, 0, 1,\n",
       "       4, 3, 4, 3, 4, 0, 3, 1, 1, 1, 1, 1, 1, 1, 3, 3, 1, 4, 1, 1, 1, 3,\n",
       "       0, 1, 1, 3, 4, 3, 3, 3, 4, 3, 0, 3, 0, 0, 1, 1, 4, 1, 4, 1, 1, 3,\n",
       "       0, 1, 0, 1, 3, 3, 0, 0, 4, 4, 1, 1, 3, 0, 0, 1, 4, 1, 1, 3, 4, 3,\n",
       "       1, 3, 3, 0, 4, 3, 3, 1, 0, 1, 1, 3, 4, 1, 3, 3, 3, 4, 1, 1, 1, 3,\n",
       "       4, 3, 3, 3, 3, 3, 0, 0, 3, 3, 1])"
      ]
     },
     "execution_count": 19,
     "metadata": {},
     "output_type": "execute_result"
    }
   ],
   "source": [
    "y_kmeans"
   ]
  },
  {
   "cell_type": "code",
   "execution_count": 20,
   "id": "detailed-stations",
   "metadata": {},
   "outputs": [
    {
     "data": {
      "text/plain": [
       "Counter({1: 97, 0: 57, 3: 80, 4: 58, 2: 5})"
      ]
     },
     "execution_count": 20,
     "metadata": {},
     "output_type": "execute_result"
    }
   ],
   "source": [
    "# Contagem dos elementos de cada cluster\n",
    "\n",
    "from collections import Counter\n",
    "\n",
    "Counter(kmeans.labels_)"
   ]
  },
  {
   "cell_type": "code",
   "execution_count": 21,
   "id": "associate-directory",
   "metadata": {},
   "outputs": [
    {
     "data": {
      "text/plain": [
       "True"
      ]
     },
     "execution_count": 21,
     "metadata": {},
     "output_type": "execute_result"
    }
   ],
   "source": [
    "# Verificação se as labels foram corretamente preservadas\n",
    "\n",
    "y_kmeans is kmeans.labels_"
   ]
  },
  {
   "cell_type": "code",
   "execution_count": 22,
   "id": "blessed-michael",
   "metadata": {},
   "outputs": [],
   "source": [
    "# Identificação dos centróides das features Age e Cholesterol\n",
    "\n",
    "centroids = kmeans.cluster_centers_\n",
    "centroids_x = centroids[:, 0]\n",
    "centroids_y = centroids[:, 4]"
   ]
  },
  {
   "cell_type": "code",
   "execution_count": 23,
   "id": "eleven-fantasy",
   "metadata": {},
   "outputs": [
    {
     "data": {
      "image/png": "[encoded data removed]",
      "text/plain": [
       "<Figure size 864x576 with 1 Axes>"
      ]
     },
     "metadata": {},
     "output_type": "display_data"
    }
   ],
   "source": [
    "sns.set()\n",
    "plt.figure(figsize=(12, 8))\n",
    "\n",
    "_ = plt.scatter(centroids_x, centroids_y, c='black', marker='x', s=100)\n",
    "\n",
    "plt.scatter(heart[y_kmeans == 0, 0], heart[y_kmeans == 0, 4], s = 50, c = 'red', label = 'Grupo 0', alpha=0.8)\n",
    "plt.scatter(heart[y_kmeans == 1, 0], heart[y_kmeans == 1, 4], s = 50, c = 'yellow', label = 'Grupo 1', alpha=0.3)\n",
    "plt.scatter(heart[y_kmeans == 2, 0], heart[y_kmeans == 2, 4], s = 50, c = 'green', label = 'Grupo 2', alpha=0.5)\n",
    "plt.scatter(heart[y_kmeans == 3, 0], heart[y_kmeans == 3, 4], s = 50, c = 'blue', label = 'Grupo 3', alpha=0.5)\n",
    "plt.scatter(heart[y_kmeans == 4, 0], heart[y_kmeans == 4, 4], s = 50, c = 'magenta', label = 'Grupo 4', alpha=0.5)\n",
    "plt.title('Chances de se adquirir doenças cardíacas', fontsize=16)\n",
    "plt.xlabel('Idade', fontsize=12)\n",
    "plt.ylabel('Colesterol', fontsize=12)\n",
    "plt.legend()\n",
    "plt.show()"
   ]
  },
  {
   "cell_type": "code",
   "execution_count": 24,
   "id": "tired-quilt",
   "metadata": {},
   "outputs": [
    {
     "name": "stdout",
     "output_type": "stream",
     "text": [
      "diagnosis   0   1   2   3  4\n",
      "Grupos                      \n",
      "0          18  14  12  10  3\n",
      "1          67  15   5   8  2\n",
      "2           3   0   1   0  1\n",
      "3          45  12   8  11  4\n",
      "4          27  13   9   6  3\n"
     ]
    }
   ],
   "source": [
    "# Comparação dos clusters gerados com as labels originais da feature alvo\n",
    "\n",
    "df = pd.DataFrame({'Grupos': y_kmeans, 'diagnosis': heart_df['diagnosis']})\n",
    "ct = pd.crosstab(df['Grupos'], df['diagnosis'])\n",
    "print(ct)"
   ]
  },
  {
   "cell_type": "code",
   "execution_count": 25,
   "id": "mathematical-sculpture",
   "metadata": {},
   "outputs": [
    {
     "name": "stderr",
     "output_type": "stream",
     "text": [
      "C:\\Users\\lflav\\anaconda3\\envs\\ciencia_de_dados\\lib\\site-packages\\sklearn\\cluster\\_kmeans.py:881: UserWarning: KMeans is known to have a memory leak on Windows with MKL, when there are less chunks than available threads. You can avoid it by setting the environment variable OMP_NUM_THREADS=2.\n",
      "  warnings.warn(\n"
     ]
    }
   ],
   "source": [
    "ks = range(1, 9)\n",
    "inercias = []\n",
    "\n",
    "for k in ks:\n",
    "    model = KMeans(n_clusters=k)\n",
    "    model.fit(heart)\n",
    "    inercias.append(model.inertia_)"
   ]
  },
  {
   "cell_type": "code",
   "execution_count": 26,
   "id": "rocky-absence",
   "metadata": {},
   "outputs": [
    {
     "data": {
      "image/png": "[encoded data removed]",
      "text/plain": [
       "<Figure size 432x288 with 1 Axes>"
      ]
     },
     "metadata": {},
     "output_type": "display_data"
    }
   ],
   "source": [
    "_ = plt.plot(ks, inercias, 'x-')\n",
    "_ = plt.title('Inércias por agrupamento', fontsize=16)\n",
    "_ = plt.xlabel('Grupos (k)')\n",
    "_ = plt.ylabel('Inercia')\n",
    "_ = plt.xticks(ks)"
   ]
  },
  {
   "cell_type": "code",
   "execution_count": 27,
   "id": "vertical-mambo",
   "metadata": {},
   "outputs": [
    {
     "name": "stderr",
     "output_type": "stream",
     "text": [
      "C:\\Users\\lflav\\anaconda3\\envs\\ciencia_de_dados\\lib\\site-packages\\sklearn\\cluster\\_kmeans.py:881: UserWarning: KMeans is known to have a memory leak on Windows with MKL, when there are less chunks than available threads. You can avoid it by setting the environment variable OMP_NUM_THREADS=2.\n",
      "  warnings.warn(\n"
     ]
    }
   ],
   "source": [
    "# Análise da silhueta dos clusters do KMeans\n",
    "\n",
    "from sklearn.metrics import silhouette_score\n",
    "\n",
    "kmeans_per_k = [KMeans(n_clusters=k, random_state=RANDOM_STATE).fit(heart) for k in range(1, 10)]\n",
    "silhouette_scores = [silhouette_score(heart, modelo.labels_) for modelo in kmeans_per_k[1:]]"
   ]
  },
  {
   "cell_type": "code",
   "execution_count": 28,
   "id": "norwegian-waters",
   "metadata": {},
   "outputs": [
    {
     "data": {
      "text/plain": [
       "[0.38579258761422547,\n",
       " 0.284067023151633,\n",
       " 0.28018544876175333,\n",
       " 0.2766776013286208,\n",
       " 0.26424936335170296,\n",
       " 0.2537956889863694,\n",
       " 0.2388163668096143,\n",
       " 0.2548680128061167]"
      ]
     },
     "execution_count": 28,
     "metadata": {},
     "output_type": "execute_result"
    }
   ],
   "source": [
    "silhouette_scores"
   ]
  },
  {
   "cell_type": "code",
   "execution_count": 29,
   "id": "minimal-rocket",
   "metadata": {},
   "outputs": [
    {
     "data": {
      "image/png": "[encoded data removed]",
      "text/plain": [
       "<Figure size 576x216 with 1 Axes>"
      ]
     },
     "metadata": {},
     "output_type": "display_data"
    }
   ],
   "source": [
    "plt.figure(figsize=(8, 3))\n",
    "plt.plot(range(2, 10), silhouette_scores, \"bo-\")\n",
    "plt.title('Análise da silhueta por agrupamento', fontsize=16)\n",
    "plt.xlabel(\"$k$\")\n",
    "plt.ylabel(\"Score por silhueta\")\n",
    "plt.show()"
   ]
  },
  {
   "cell_type": "code",
   "execution_count": null,
   "id": "intense-ambassador",
   "metadata": {},
   "outputs": [],
   "source": []
  },
  {
   "cell_type": "markdown",
   "id": "fatal-proxy",
   "metadata": {},
   "source": [
    "_____________\n",
    "## *Passo 5 - Geração dos clusters utilizando o agrupamento hierárquico*\n",
    "#### Nessa etapa, o dataset será analisado pelo algoritmo, sendo criados os clusters de acordo com as características das features e gerado uma gráfico do tipo dendograma."
   ]
  },
  {
   "cell_type": "code",
   "execution_count": 30,
   "id": "compatible-wilderness",
   "metadata": {},
   "outputs": [],
   "source": [
    "from scipy.cluster.hierarchy import linkage, dendrogram"
   ]
  },
  {
   "cell_type": "code",
   "execution_count": 31,
   "id": "based-mission",
   "metadata": {},
   "outputs": [
    {
     "data": {
      "text/html": [
       "<div>\n",
       "<style scoped>\n",
       "    .dataframe tbody tr th:only-of-type {\n",
       "        vertical-align: middle;\n",
       "    }\n",
       "\n",
       "    .dataframe tbody tr th {\n",
       "        vertical-align: top;\n",
       "    }\n",
       "\n",
       "    .dataframe thead th {\n",
       "        text-align: right;\n",
       "    }\n",
       "</style>\n",
       "<table border=\"1\" class=\"dataframe\">\n",
       "  <thead>\n",
       "    <tr style=\"text-align: right;\">\n",
       "      <th></th>\n",
       "      <th>age</th>\n",
       "      <th>sex</th>\n",
       "      <th>chest_pain</th>\n",
       "      <th>resting_blood_pressure</th>\n",
       "      <th>cholestoral</th>\n",
       "      <th>blood_sugar</th>\n",
       "      <th>resting_ecg</th>\n",
       "      <th>maximum_heart_rate</th>\n",
       "      <th>exercise_induced_angina</th>\n",
       "      <th>oldpeak</th>\n",
       "      <th>slope_peak_exercise</th>\n",
       "      <th>major_vessels</th>\n",
       "      <th>thal</th>\n",
       "      <th>diagnosis</th>\n",
       "    </tr>\n",
       "  </thead>\n",
       "  <tbody>\n",
       "    <tr>\n",
       "      <th>0</th>\n",
       "      <td>63.0</td>\n",
       "      <td>1.0</td>\n",
       "      <td>1.0</td>\n",
       "      <td>145.0</td>\n",
       "      <td>233.0</td>\n",
       "      <td>1.0</td>\n",
       "      <td>2.0</td>\n",
       "      <td>150.0</td>\n",
       "      <td>0.0</td>\n",
       "      <td>2.3</td>\n",
       "      <td>3.0</td>\n",
       "      <td>0.0</td>\n",
       "      <td>6.0</td>\n",
       "      <td>0</td>\n",
       "    </tr>\n",
       "    <tr>\n",
       "      <th>1</th>\n",
       "      <td>67.0</td>\n",
       "      <td>1.0</td>\n",
       "      <td>4.0</td>\n",
       "      <td>160.0</td>\n",
       "      <td>286.0</td>\n",
       "      <td>0.0</td>\n",
       "      <td>2.0</td>\n",
       "      <td>108.0</td>\n",
       "      <td>1.0</td>\n",
       "      <td>1.5</td>\n",
       "      <td>2.0</td>\n",
       "      <td>3.0</td>\n",
       "      <td>3.0</td>\n",
       "      <td>2</td>\n",
       "    </tr>\n",
       "    <tr>\n",
       "      <th>2</th>\n",
       "      <td>67.0</td>\n",
       "      <td>1.0</td>\n",
       "      <td>4.0</td>\n",
       "      <td>120.0</td>\n",
       "      <td>229.0</td>\n",
       "      <td>0.0</td>\n",
       "      <td>2.0</td>\n",
       "      <td>129.0</td>\n",
       "      <td>1.0</td>\n",
       "      <td>2.6</td>\n",
       "      <td>2.0</td>\n",
       "      <td>2.0</td>\n",
       "      <td>7.0</td>\n",
       "      <td>1</td>\n",
       "    </tr>\n",
       "    <tr>\n",
       "      <th>3</th>\n",
       "      <td>37.0</td>\n",
       "      <td>1.0</td>\n",
       "      <td>3.0</td>\n",
       "      <td>130.0</td>\n",
       "      <td>250.0</td>\n",
       "      <td>0.0</td>\n",
       "      <td>0.0</td>\n",
       "      <td>187.0</td>\n",
       "      <td>0.0</td>\n",
       "      <td>3.5</td>\n",
       "      <td>3.0</td>\n",
       "      <td>0.0</td>\n",
       "      <td>3.0</td>\n",
       "      <td>0</td>\n",
       "    </tr>\n",
       "    <tr>\n",
       "      <th>4</th>\n",
       "      <td>41.0</td>\n",
       "      <td>0.0</td>\n",
       "      <td>2.0</td>\n",
       "      <td>130.0</td>\n",
       "      <td>204.0</td>\n",
       "      <td>0.0</td>\n",
       "      <td>2.0</td>\n",
       "      <td>172.0</td>\n",
       "      <td>0.0</td>\n",
       "      <td>1.4</td>\n",
       "      <td>1.0</td>\n",
       "      <td>0.0</td>\n",
       "      <td>3.0</td>\n",
       "      <td>0</td>\n",
       "    </tr>\n",
       "  </tbody>\n",
       "</table>\n",
       "</div>"
      ],
      "text/plain": [
       "    age  sex  chest_pain  resting_blood_pressure  cholestoral  blood_sugar  \\\n",
       "0  63.0  1.0         1.0                   145.0        233.0          1.0   \n",
       "1  67.0  1.0         4.0                   160.0        286.0          0.0   \n",
       "2  67.0  1.0         4.0                   120.0        229.0          0.0   \n",
       "3  37.0  1.0         3.0                   130.0        250.0          0.0   \n",
       "4  41.0  0.0         2.0                   130.0        204.0          0.0   \n",
       "\n",
       "   resting_ecg  maximum_heart_rate  exercise_induced_angina  oldpeak  \\\n",
       "0          2.0               150.0                      0.0      2.3   \n",
       "1          2.0               108.0                      1.0      1.5   \n",
       "2          2.0               129.0                      1.0      2.6   \n",
       "3          0.0               187.0                      0.0      3.5   \n",
       "4          2.0               172.0                      0.0      1.4   \n",
       "\n",
       "   slope_peak_exercise  major_vessels  thal  diagnosis  \n",
       "0                  3.0            0.0   6.0          0  \n",
       "1                  2.0            3.0   3.0          2  \n",
       "2                  2.0            2.0   7.0          1  \n",
       "3                  3.0            0.0   3.0          0  \n",
       "4                  1.0            0.0   3.0          0  "
      ]
     },
     "execution_count": 31,
     "metadata": {},
     "output_type": "execute_result"
    }
   ],
   "source": [
    "heart_dend.head()"
   ]
  },
  {
   "cell_type": "code",
   "execution_count": 32,
   "id": "conventional-simulation",
   "metadata": {},
   "outputs": [],
   "source": [
    "indices = list(heart_dend.index)"
   ]
  },
  {
   "cell_type": "code",
   "execution_count": 33,
   "id": "subject-robert",
   "metadata": {},
   "outputs": [],
   "source": [
    "from sklearn.preprocessing import normalize\n",
    "heart_dend_norm = normalize(heart_dend)"
   ]
  },
  {
   "cell_type": "code",
   "execution_count": 34,
   "id": "casual-night",
   "metadata": {},
   "outputs": [],
   "source": [
    "mesclagens = linkage(heart_dend_norm, method='complete')"
   ]
  },
  {
   "cell_type": "code",
   "execution_count": 35,
   "id": "allied-vehicle",
   "metadata": {},
   "outputs": [
    {
     "data": {
      "image/png": "[encoded data removed]",
      "text/plain": [
       "<Figure size 2160x720 with 1 Axes>"
      ]
     },
     "metadata": {},
     "output_type": "display_data"
    }
   ],
   "source": [
    "_ = fig, ax = plt.subplots(figsize=(30,10))\n",
    "_ = dendrogram(mesclagens, leaf_font_size=12, labels=indices, ax=ax)\n",
    "_ = plt.xticks(rotation=90)\n",
    "_ = ax.set_ylabel('Distancia')"
   ]
  },
  {
   "cell_type": "markdown",
   "id": "capable-reward",
   "metadata": {},
   "source": [
    "_____________\n",
    "## *Passo 6 - Geração dos clusters utilizando o algoritmo DBSCAN*\n",
    "#### Nessa etapa, o dataset será analisado pelo algoritmo DBSCAN, sendo criados os clusters de acordo com as características das features."
   ]
  },
  {
   "cell_type": "code",
   "execution_count": 36,
   "id": "stretch-evolution",
   "metadata": {},
   "outputs": [
    {
     "data": {
      "text/plain": [
       "array([[63.,  1.,  1., ...,  3.,  0.,  6.],\n",
       "       [67.,  1.,  4., ...,  2.,  3.,  3.],\n",
       "       [67.,  1.,  4., ...,  2.,  2.,  7.],\n",
       "       ...,\n",
       "       [68.,  1.,  4., ...,  2.,  2.,  7.],\n",
       "       [57.,  1.,  4., ...,  2.,  1.,  7.],\n",
       "       [57.,  0.,  2., ...,  2.,  1.,  3.]])"
      ]
     },
     "execution_count": 36,
     "metadata": {},
     "output_type": "execute_result"
    }
   ],
   "source": [
    "heart_dbscan"
   ]
  },
  {
   "cell_type": "code",
   "execution_count": 37,
   "id": "residential-april",
   "metadata": {},
   "outputs": [
    {
     "data": {
      "text/plain": [
       "array([ 0,  2,  0,  0,  0,  0,  0,  0,  0,  0,  0,  0,  0,  0,  0,  0,  0,\n",
       "        0,  0,  0,  0,  0,  0,  0,  0,  0,  0,  0,  0,  1,  0,  0,  0,  0,\n",
       "        0,  0,  1,  2, -1,  0,  0,  0, -1,  0,  0,  0,  1,  0,  4,  0,  0,\n",
       "        0,  0,  0,  0,  3,  0,  0,  0,  0,  0,  0,  0,  0,  1,  0,  0,  0,\n",
       "       -1,  0,  0,  0,  3,  0,  0, -1,  0,  0,  0,  2,  0,  0, -1, -1,  0,\n",
       "        0,  0,  0,  0,  0, -1,  0, -1,  0,  0,  0,  0,  0,  0,  0,  0,  0,\n",
       "        0,  0,  0,  0,  0,  0,  0,  0,  0, -1, -1,  3,  0,  0,  0, -1,  0,\n",
       "        0,  4,  0,  0,  0,  0, -1,  0,  0,  0,  0,  0, -1,  0,  0,  0, -1,\n",
       "        3,  0,  0,  0, -1,  0,  0,  0,  0,  2,  0,  0,  0,  0,  3, -1,  0,\n",
       "       -1, -1,  0,  0,  0,  0,  0,  0,  0,  0,  0,  0,  0,  0,  0,  2,  0,\n",
       "       -1,  4,  0, -1,  0,  1,  0,  0,  0,  4,  0, -1, -1,  0,  0,  0, -1,\n",
       "        0,  0,  0,  3,  0, -1,  0,  0,  0,  2,  0, -1, -1,  0,  0,  0,  0,\n",
       "        0,  0,  0,  0,  0,  0, -1,  0,  0,  0,  0,  0,  0,  0,  0,  0,  3,\n",
       "        0,  0,  0,  0,  0,  0,  0, -1, -1, -1,  0,  3,  3,  0,  0,  0,  0,\n",
       "        0,  0,  0, -1, -1,  0,  3,  0,  0,  0,  0,  3,  0,  0,  0,  0, -1,\n",
       "        0,  0,  0,  0,  0,  0, -1, -1,  0,  0,  0,  0,  0, -1, -1,  0, -1,\n",
       "        0,  0,  0,  0, -1,  0,  0,  0,  0,  0,  0,  0,  0,  0,  0,  0,  0,\n",
       "        0, -1, -1,  0,  3,  0, -1,  0], dtype=int64)"
      ]
     },
     "execution_count": 37,
     "metadata": {},
     "output_type": "execute_result"
    }
   ],
   "source": [
    "from sklearn.cluster import DBSCAN\n",
    "\n",
    "dbscan = DBSCAN(eps=20, min_samples=4)\n",
    "clusters = dbscan.fit_predict(heart_dbscan)\n",
    "clusters"
   ]
  },
  {
   "cell_type": "code",
   "execution_count": 38,
   "id": "suburban-orlando",
   "metadata": {},
   "outputs": [
    {
     "data": {
      "text/plain": [
       "Counter({0: 228, 2: 6, 1: 5, -1: 42, 4: 4, 3: 12})"
      ]
     },
     "execution_count": 38,
     "metadata": {},
     "output_type": "execute_result"
    }
   ],
   "source": [
    "# Contagem dos elementos de cada cluster criado\n",
    "\n",
    "Counter(clusters)"
   ]
  },
  {
   "cell_type": "code",
   "execution_count": 39,
   "id": "handed-begin",
   "metadata": {},
   "outputs": [
    {
     "data": {
      "image/png": "[encoded data removed]",
      "text/plain": [
       "<Figure size 864x576 with 1 Axes>"
      ]
     },
     "metadata": {},
     "output_type": "display_data"
    }
   ],
   "source": [
    "sns.set()\n",
    "plt.figure(figsize=(12, 8))\n",
    "\n",
    "plt.scatter(heart_dbscan[clusters == 0, 0], heart_dbscan[clusters == 0, 4], s = 50, c = 'cyan', label = 'Grupo 0', alpha=0.8)\n",
    "plt.scatter(heart_dbscan[clusters == 1, 0], heart_dbscan[clusters == 1, 4], s = 50, c = 'green', label = 'Grupo 1', alpha=0.8)\n",
    "plt.scatter(heart_dbscan[clusters == 2, 0], heart_dbscan[clusters == 2, 4], s = 50, c = 'blue', label = 'Grupo 2', alpha=0.8)\n",
    "plt.scatter(heart_dbscan[clusters == 3, 0], heart_dbscan[clusters == 3, 4], s = 50, c = 'orange', label = 'Grupo 3', alpha=0.8)\n",
    "plt.scatter(heart_dbscan[clusters == 4, 0], heart_dbscan[clusters == 4, 4], s = 50, c = 'yellow', label = 'Grupo 4', alpha=0.8)\n",
    "\n",
    "plt.title('Chances de se adquirir doenças cardíacas', fontsize=16)\n",
    "plt.xlabel('Idade', fontsize=12)\n",
    "plt.ylabel('Colesterol', fontsize=12)\n",
    "plt.legend()\n",
    "plt.show()"
   ]
  },
  {
   "cell_type": "markdown",
   "id": "legendary-prime",
   "metadata": {},
   "source": [
    "## __*Resultado:*__\n",
    "\n",
    "### Nenhum dos três algoritmos retornou um resultado satisfatório. Como são conhecidos os agrupamentos originais através da variável-alvo, foi-se possível efetuar a comparação entre os resultados gerados e o valor real da feature, e nenhum deles sequer se aproximou.\n",
    "\n",
    "### Tal fato pode ser explicado pelas características do dataset, uma vez que cada algoritmo possui suas limitações para o agrupamento ideal. Pode se citar por exemplo que o KMeans não se comporta bem quando os clusters possuem tamanhos variados, diferentes densidades ou tamanhos não-esféricos. A análise do dataset mostrou que diversas features são lineares e até mesmo binárias.\n",
    "\n",
    "### Assim sendo, apesar do resultado ruim, o KMeans foi o que apresentou um agrupamento menos pior."
   ]
  },
  {
   "cell_type": "code",
   "execution_count": null,
   "id": "frequent-method",
   "metadata": {},
   "outputs": [],
   "source": []
  }
 ],
 "metadata": {
  "kernelspec": {
   "display_name": "Python 3",
   "language": "python",
   "name": "python3"
  },
  "language_info": {
   "codemirror_mode": {
    "name": "ipython",
    "version": 3
   },
   "file_extension": ".py",
   "mimetype": "text/x-python",
   "name": "python",
   "nbconvert_exporter": "python",
   "pygments_lexer": "ipython3",
   "version": "3.8.8"
  }
 },
 "nbformat": 4,
 "nbformat_minor": 5
}
